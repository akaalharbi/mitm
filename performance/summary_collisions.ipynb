{
 "cells": [
  {
   "cell_type": "code",
   "execution_count": 1,
   "id": "d6c809c0",
   "metadata": {},
   "outputs": [],
   "source": [
    "from IPython.display import display\n",
    "import pandas as pd \n",
    "import numpy as np\n",
    "import itertools\n",
    "import math\n",
    "\n",
    "pd.set_option('display.max_rows', None)\n",
    "pd.set_option('display.max_columns', None)\n"
   ]
  },
  {
   "cell_type": "code",
   "execution_count": 2,
   "id": "3bb17b0c",
   "metadata": {},
   "outputs": [
    {
     "name": "stdout",
     "output_type": "stream",
     "text": [
      "C_sizes are [16 18 20 22 24 26]\n",
      "Column Names are ['C_size', 'A_size', 'log2(nbytes)', 'difficulty', '#points', '#distinguished_points', 'log2(#distinguished_points)', '#collisions', 'log2(#collisions)', '#updates', 'time(sec)']\n"
     ]
    }
   ],
   "source": [
    "df = pd.read_csv(\"collision_summary.csv\")\n",
    "# Remove useless experiments! \n",
    "df = df[df['C_size'] > df['log2(nbytes)']]\n",
    "\n",
    "# Get all the possible values of C\n",
    "C_sizes = df[\"C_size\"].unique()\n",
    "print(f\"C_sizes are {C_sizes}\")\n",
    "print(f\"Column Names are {df.columns.values.tolist()}\")"
   ]
  },
  {
   "cell_type": "code",
   "execution_count": 3,
   "id": "3fcc3d4f",
   "metadata": {},
   "outputs": [],
   "source": [
    "# Ignore experiments where we have more memory than the problem size\n",
    "df = df[df['C_size'] > df['log2(nbytes)']]\n",
    "# Get all C_sizes \n",
    "C_sizes = df[\"C_size\"].unique()\n"
   ]
  },
  {
   "cell_type": "code",
   "execution_count": 4,
   "id": "24d6f52e",
   "metadata": {},
   "outputs": [
    {
     "name": "stdout",
     "output_type": "stream",
     "text": [
      "avg stats for a normal run...\n",
      "scale: sqrt(n^3/w)\n",
      "----------------------\n",
      "\n",
      "C_size = 16, scale = 2^24.0/sqrt(w)\n",
      "#distinguihsed_scaled = 0.686  σ(ndist) = 22643.57, #collisions_scaled = 0.062,  σ(col) = 2058.62, diff = 6, mem=2^12.322, nruns = 319\n",
      "----------------------------------------\n",
      "#distinguihsed_scaled = 1.011  σ(ndist) = 23165.64, #collisions_scaled = 0.099,  σ(col) = 2281.69, diff = 5, mem=2^13.322, nruns = 320\n",
      "#distinguihsed_scaled = 0.833  σ(ndist) = 15581.71, #collisions_scaled = 0.142,  σ(col) = 2670.15, diff = 5, mem=2^14.322, nruns = 320\n",
      "----------------------------------------\n",
      "#distinguihsed_scaled = 1.139  σ(ndist) = 16494.70, #collisions_scaled = 0.202,  σ(col) = 2981.33, diff = 4, mem=2^15.322, nruns = 320\n",
      "----------------------------------------\n",
      "========================================\n",
      "\n",
      "C_size = 18, scale = 2^27.0/sqrt(w)\n",
      "#distinguihsed_scaled = 0.688  σ(ndist) = 144775.12, #collisions_scaled = 0.036,  σ(col) = 7669.46, diff = 6, mem=2^13.322, nruns = 446\n",
      "#distinguihsed_scaled = 0.700  σ(ndist) = 84633.24, #collisions_scaled = 0.068,  σ(col) = 8230.10, diff = 6, mem=2^14.322, nruns = 448\n",
      "----------------------------------------\n",
      "#distinguihsed_scaled = 0.806  σ(ndist) = 75291.17, #collisions_scaled = 0.083,  σ(col) = 7770.62, diff = 5, mem=2^15.322, nruns = 447\n",
      "#distinguihsed_scaled = 0.913  σ(ndist) = 56672.88, #collisions_scaled = 0.162,  σ(col) = 10081.81, diff = 5, mem=2^16.322, nruns = 448\n",
      "----------------------------------------\n",
      "#distinguihsed_scaled = 1.092  σ(ndist) = 45878.16, #collisions_scaled = 0.201,  σ(col) = 8479.54, diff = 4, mem=2^17.322, nruns = 448\n",
      "----------------------------------------\n",
      "========================================\n",
      "\n",
      "C_size = 20, scale = 2^30.0/sqrt(w)\n",
      "#distinguihsed_scaled = 0.343  σ(ndist) = 149590.00, #collisions_scaled = 0.018,  σ(col) = 8003.70, diff = 7, mem=2^14.322, nruns = 129\n",
      "----------------------------------------\n",
      "#distinguihsed_scaled = 0.516  σ(ndist) = 318067.62, #collisions_scaled = 0.029,  σ(col) = 17695.67, diff = 6, mem=2^15.322, nruns = 154\n",
      "#distinguihsed_scaled = 0.549  σ(ndist) = 222049.64, #collisions_scaled = 0.056,  σ(col) = 22543.16, diff = 6, mem=2^16.322, nruns = 124\n",
      "----------------------------------------\n",
      "#distinguihsed_scaled = 0.895  σ(ndist) = 268550.47, #collisions_scaled = 0.093,  σ(col) = 27981.64, diff = 5, mem=2^17.322, nruns = 128\n",
      "#distinguihsed_scaled = 1.053  σ(ndist) = 246247.03, #collisions_scaled = 0.189,  σ(col) = 44223.99, diff = 5, mem=2^18.322, nruns = 128\n",
      "----------------------------------------\n",
      "========================================\n",
      "\n",
      "C_size = 22, scale = 2^33.0/sqrt(w)\n",
      "#distinguihsed_scaled = 0.124  σ(ndist) = 208369.37, #collisions_scaled = 0.004,  σ(col) = 6116.47, diff = 7, mem=2^15.322, nruns = 48\n",
      "#distinguihsed_scaled = 0.098  σ(ndist) = 126446.59, #collisions_scaled = 0.005,  σ(col) = 7063.57, diff = 7, mem=2^16.322, nruns = 29\n",
      "----------------------------------------\n",
      "#distinguihsed_scaled = 0.205  σ(ndist) = 174093.95, #collisions_scaled = 0.012,  σ(col) = 9894.30, diff = 6, mem=2^17.322, nruns = 54\n",
      "#distinguihsed_scaled = 0.112  σ(ndist) = 110013.23, #collisions_scaled = 0.012,  σ(col) = 11364.48, diff = 6, mem=2^18.322, nruns = 53\n",
      "----------------------------------------\n",
      "#distinguihsed_scaled = 0.145  σ(ndist) = 135971.46, #collisions_scaled = 0.015,  σ(col) = 14333.05, diff = 5, mem=2^19.322, nruns = 44\n",
      "----------------------------------------\n",
      "========================================\n",
      "\n",
      "C_size = 24, scale = 2^36.0/sqrt(w)\n",
      "#distinguihsed_scaled = 0.014  σ(ndist) = 105585.60, #collisions_scaled = 0.000,  σ(col) = 3108.60, diff = 8, mem=2^16.322, nruns = 5\n",
      "----------------------------------------\n",
      "#distinguihsed_scaled = 0.045  σ(ndist) = 97560.03, #collisions_scaled = 0.001,  σ(col) = 2904.33, diff = 7, mem=2^17.322, nruns = 6\n",
      "#distinguihsed_scaled = 0.007  σ(ndist) = 67547.46, #collisions_scaled = 0.000,  σ(col) = 3810.54, diff = 7, mem=2^18.322, nruns = 6\n",
      "----------------------------------------\n",
      "#distinguihsed_scaled = 0.018  σ(ndist) = 94628.39, #collisions_scaled = 0.001,  σ(col) = 5377.14, diff = 6, mem=2^19.322, nruns = 10\n",
      "#distinguihsed_scaled = 0.011  σ(ndist) = 24675.04, #collisions_scaled = 0.001,  σ(col) = 2549.70, diff = 6, mem=2^20.322, nruns = 6\n",
      "----------------------------------------\n",
      "========================================\n",
      "\n",
      "C_size = 26, scale = 2^39.0/sqrt(w)\n",
      "#distinguihsed_scaled = 0.001  σ(ndist) = 1832.22, #collisions_scaled = 0.000,  σ(col) = 28.25, diff = 8, mem=2^17.322, nruns = 2\n",
      "#distinguihsed_scaled = 0.000  σ(ndist) = nan, #collisions_scaled = 0.000,  σ(col) = nan, diff = 8, mem=2^18.322, nruns = 1\n",
      "----------------------------------------\n",
      "#distinguihsed_scaled = 0.005  σ(ndist) = nan, #collisions_scaled = 0.000,  σ(col) = nan, diff = 7, mem=2^20.322, nruns = 1\n",
      "----------------------------------------\n",
      "#distinguihsed_scaled = 0.009  σ(ndist) = 27282.35, #collisions_scaled = 0.001,  σ(col) = 1500.30, diff = 6, mem=2^21.322, nruns = 2\n",
      "----------------------------------------\n",
      "========================================\n",
      "\n"
     ]
    }
   ],
   "source": [
    "print(\"avg stats for a normal run...\\n\"\n",
    "     \"scale: sqrt(n^3/w)\\n\"\n",
    "     \"----------------------\\n\")\n",
    "\n",
    "for c in C_sizes:\n",
    "    print(f\"C_size = {c}, scale = 2^{c*3/2}/sqrt(w)\")\n",
    "    df_C = df[df[\"C_size\"] == c]\n",
    "    \n",
    "    difficulties = df_C[\"difficulty\"].unique()\n",
    "    rams = df_C[\"log2(nbytes)\"].unique()\n",
    "    \n",
    "    for d in difficulties:\n",
    "        df_C_d = df_C[df_C['difficulty'] == d]\n",
    "\n",
    "        for m in rams:\n",
    "            df_C_d_m = df_C_d[df_C_d['log2(nbytes)'] == m]\n",
    "            \n",
    "            # Calculate the mean of the desired column (e.g., 'Column1')\n",
    "            ndist_avg = df_C_d_m[\"log2(#distinguished_points)\"].mean()\n",
    "            npoints_avg = df_C_d_m[\"#points\"].mean()\n",
    "            mean_collisions = df_C_d_m[\"log2(#collisions)\"].mean()\n",
    "            \n",
    "            # in the papaer they have divided by sqrt(n^3/w)\n",
    "            scale_factor = (c*3 - m)/2\n",
    "            \n",
    "            ndist_scaled = 2**(ndist_avg - scale_factor)\n",
    "            npoints =  2**(npoints_avg - scale_factor)\n",
    "            ncollisions_scaled = 2**(mean_collisions - scale_factor)\n",
    "            \n",
    "            ndist_std_scaled = df_C_d_m[\"#distinguished_points\"].std() / scale_factor\n",
    "            npoints_std_scaled = df_C_d_m[\"#points\"].std() / scale_factor\n",
    "            ncollisions_std_scaled = df_C_d_m[\"#collisions\"].std() / scale_factor\n",
    "\n",
    "            # skip entries that don't have values\n",
    "            if not (math.isnan(ndist_avg) or math.isnan(mean_collisions)):\n",
    "                print(f\"#distinguihsed_scaled = {ndist_scaled:.03f}  σ(ndist) = {ndist_std_scaled:.2f}, #collisions_scaled = {ncollisions_scaled:.03f},  σ(col) = {ncollisions_std_scaled:.2f}, diff = {d}, mem=2^{m:.03f}, nruns = {df_C_d_m.shape[0]}\")\n",
    "                # print(f\"#collisions = 2^{(mean_collisions/scale_factor):.03f}, #distinguihsed_pts = 2^{(mean_value/scale_factor):.03f} pts, diff = {d}, mem=2^{m:.03f}, nruns = {df_C_d_m.shape[0]}\")\n",
    "        print(\"-\"*40)\n",
    "    print(\"=\"*40 + \"\\n\")"
   ]
  },
  {
   "cell_type": "code",
   "execution_count": null,
   "id": "6a3c28ec",
   "metadata": {},
   "outputs": [],
   "source": []
  }
 ],
 "metadata": {
  "kernelspec": {
   "display_name": "Python 3 (ipykernel)",
   "language": "python",
   "name": "python3"
  },
  "language_info": {
   "codemirror_mode": {
    "name": "ipython",
    "version": 3
   },
   "file_extension": ".py",
   "mimetype": "text/x-python",
   "name": "python",
   "nbconvert_exporter": "python",
   "pygments_lexer": "ipython3",
   "version": "3.10.12"
  }
 },
 "nbformat": 4,
 "nbformat_minor": 5
}
