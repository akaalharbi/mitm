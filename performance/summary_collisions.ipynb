{
 "cells": [
  {
   "cell_type": "code",
   "execution_count": 1,
   "id": "d6c809c0",
   "metadata": {},
   "outputs": [],
   "source": [
    "from IPython.display import display\n",
    "import pandas as pd \n",
    "import numpy as np\n",
    "import itertools\n",
    "import math\n",
    "\n",
    "pd.set_option('display.max_rows', None)\n",
    "pd.set_option('display.max_columns', None)\n"
   ]
  },
  {
   "cell_type": "code",
   "execution_count": 2,
   "id": "3bb17b0c",
   "metadata": {},
   "outputs": [],
   "source": [
    "df = pd.read_csv(\"summary_collision.csv\")\n",
    "# Remove useless experiments! \n",
    "df = df[df['C_size'] > df['log2(nbytes)']]\n",
    "\n",
    "# Get all the possible values of C\n",
    "C_sizes = df[\"C_size\"].unique()\n"
   ]
  },
  {
   "cell_type": "code",
   "execution_count": 3,
   "id": "3fcc3d4f",
   "metadata": {},
   "outputs": [],
   "source": [
    "df = df[df['C_size'] > df['log2(nbytes)']]\n",
    "C_sizes = df[\"C_size\"].unique()\n",
    "\n"
   ]
  },
  {
   "cell_type": "code",
   "execution_count": 4,
   "id": "2b1881d6",
   "metadata": {},
   "outputs": [],
   "source": [
    "# df_C = df[df[\"C_size\"] == 16]\n",
    "# difficulties = df_C[\"difficulty\"].unique()\n",
    "# rams = df_C[\"log2(nbytes)\"].unique()\n",
    "# difficulties, rams\n",
    "# df_C = df[df[\"C_size\" ] == C_sizes[0]]\n",
    "# df_C"
   ]
  },
  {
   "cell_type": "code",
   "execution_count": 5,
   "id": "24d6f52e",
   "metadata": {},
   "outputs": [
    {
     "name": "stdout",
     "output_type": "stream",
     "text": [
      "avg stats for a normal run...\n",
      "scale: sqrt(n^3/w)\n",
      "----------------------\n",
      "\n",
      "C_size = 16, scale = 2^24.0/sqrt(w)\n",
      "#distinguihsed_scaled = 116.439  σ(ndist) = 116.44, #collisions_scaled = 0.274,  σ(col) = 5875.50, diff = 0, mem=2^12.322, nruns = 32\n",
      "#distinguihsed_scaled = 152.243  σ(ndist) = 152.24, #collisions_scaled = 0.715,  σ(col) = 13185.32, diff = 0, mem=2^13.322, nruns = 32\n",
      "#distinguihsed_scaled = 118.357  σ(ndist) = 118.36, #collisions_scaled = 1.108,  σ(col) = 8902.33, diff = 0, mem=2^14.322, nruns = 32\n",
      "#distinguihsed_scaled = 81.392  σ(ndist) = 81.39, #collisions_scaled = 1.515,  σ(col) = 8370.96, diff = 0, mem=2^15.322, nruns = 32\n",
      "----------------------------------------\n",
      "#distinguihsed_scaled = 56.851  σ(ndist) = 56.85, #collisions_scaled = 0.276,  σ(col) = 13626.57, diff = 1, mem=2^12.322, nruns = 32\n",
      "#distinguihsed_scaled = 70.495  σ(ndist) = 70.50, #collisions_scaled = 0.676,  σ(col) = 14935.66, diff = 1, mem=2^13.322, nruns = 32\n",
      "#distinguihsed_scaled = 37.979  σ(ndist) = 37.98, #collisions_scaled = 0.722,  σ(col) = 7784.82, diff = 1, mem=2^14.322, nruns = 32\n",
      "#distinguihsed_scaled = 34.881  σ(ndist) = 34.88, #collisions_scaled = 1.304,  σ(col) = 9316.48, diff = 1, mem=2^15.322, nruns = 32\n",
      "----------------------------------------\n",
      "#distinguihsed_scaled = 46.181  σ(ndist) = 46.18, #collisions_scaled = 0.414,  σ(col) = 9122.66, diff = 2, mem=2^12.322, nruns = 32\n",
      "#distinguihsed_scaled = 36.024  σ(ndist) = 36.02, #collisions_scaled = 0.637,  σ(col) = 10788.02, diff = 2, mem=2^13.322, nruns = 32\n",
      "#distinguihsed_scaled = 17.579  σ(ndist) = 17.58, #collisions_scaled = 0.607,  σ(col) = 8147.39, diff = 2, mem=2^14.322, nruns = 32\n",
      "#distinguihsed_scaled = 18.398  σ(ndist) = 18.40, #collisions_scaled = 1.215,  σ(col) = 8001.33, diff = 2, mem=2^15.322, nruns = 32\n",
      "----------------------------------------\n",
      "#distinguihsed_scaled = 19.074  σ(ndist) = 19.07, #collisions_scaled = 0.319,  σ(col) = 8237.16, diff = 3, mem=2^12.322, nruns = 32\n",
      "#distinguihsed_scaled = 11.671  σ(ndist) = 11.67, #collisions_scaled = 0.379,  σ(col) = 7165.03, diff = 3, mem=2^13.322, nruns = 32\n",
      "#distinguihsed_scaled = 14.407  σ(ndist) = 14.41, #collisions_scaled = 0.891,  σ(col) = 8398.97, diff = 3, mem=2^14.322, nruns = 32\n",
      "#distinguihsed_scaled = 12.416  σ(ndist) = 12.42, #collisions_scaled = 1.408,  σ(col) = 7082.85, diff = 3, mem=2^15.322, nruns = 32\n",
      "----------------------------------------\n",
      "#distinguihsed_scaled = 7.684  σ(ndist) = 7.68, #collisions_scaled = 0.230,  σ(col) = 5698.90, diff = 4, mem=2^12.322, nruns = 30\n",
      "#distinguihsed_scaled = 8.152  σ(ndist) = 8.15, #collisions_scaled = 0.465,  σ(col) = 5475.37, diff = 4, mem=2^13.322, nruns = 31\n",
      "#distinguihsed_scaled = 9.282  σ(ndist) = 9.28, #collisions_scaled = 0.972,  σ(col) = 12285.27, diff = 4, mem=2^14.322, nruns = 32\n",
      "#distinguihsed_scaled = 9.111  σ(ndist) = 9.11, #collisions_scaled = 1.647,  σ(col) = 8805.33, diff = 4, mem=2^15.322, nruns = 32\n",
      "----------------------------------------\n",
      "#distinguihsed_scaled = 6.303  σ(ndist) = 6.30, #collisions_scaled = 0.338,  σ(col) = 4116.76, diff = 5, mem=2^12.322, nruns = 17\n",
      "#distinguihsed_scaled = 3.691  σ(ndist) = 3.69, #collisions_scaled = 0.362,  σ(col) = 2532.46, diff = 5, mem=2^13.322, nruns = 20\n",
      "#distinguihsed_scaled = 3.377  σ(ndist) = 3.38, #collisions_scaled = 0.576,  σ(col) = 6352.35, diff = 5, mem=2^14.322, nruns = 21\n",
      "#distinguihsed_scaled = 2.375  σ(ndist) = 2.37, #collisions_scaled = 0.659,  σ(col) = 5219.56, diff = 5, mem=2^15.322, nruns = 20\n",
      "----------------------------------------\n",
      "========================================\n",
      "\n"
     ]
    }
   ],
   "source": [
    "print(\"avg stats for a normal run...\\n\"\n",
    "     \"scale: sqrt(n^3/w)\\n\"\n",
    "     \"----------------------\\n\")\n",
    "\n",
    "for c in C_sizes:\n",
    "    print(f\"C_size = {c}, scale = 2^{c*3/2}/sqrt(w)\")\n",
    "    df_C = df[df[\"C_size\"] == c]\n",
    "    \n",
    "    difficulties = df_C[\"difficulty\"].unique()\n",
    "    rams = df_C[\"log2(nbytes)\"].unique()\n",
    "    \n",
    "    for d in difficulties:\n",
    "        df_C_d = df_C[df_C['difficulty'] == d]\n",
    "\n",
    "        for m in rams:\n",
    "            df_C_d_m = df_C_d[df_C_d['log2(nbytes)'] == m]\n",
    "            \n",
    "            # Calculate the mean of the desired column (e.g., 'Column1')\n",
    "            mean_value = df_C_d_m[\"log2(#distinguished_points)\"].mean()\n",
    "            mean_collisions = df_C_d_m[\"log2(#collisions)\"].mean()\n",
    "            # in the papaer they have divided by sqrt(n^3/w)\n",
    "            scale_factor = (c*3 - m)/2\n",
    "            \n",
    "            ndist_scaled = 2**(mean_value - scale_factor)\n",
    "            ncollisions_scaled = 2**(mean_collisions - scale_factor)\n",
    "            \n",
    "            ndist_std_scaled = df_C_d_m[\"#distinguished_points\"].std() / scale_factor\n",
    "            ncollisions_std_scaled = df_C_d_m[\"#collisions\"].std() / scale_factor\n",
    "            if not (math.isnan(mean_value) or math.isnan(mean_collisions)):\n",
    "                print(f\"#distinguihsed_scaled = {ndist_scaled:.03f}  σ(ndist) = {ndist_scaled:.2f}, #collisions_scaled = {ncollisions_scaled:.03f},  σ(col) = {ncollisions_std_scaled:.2f}, diff = {d}, mem=2^{m:.03f}, nruns = {df_C_d_m.shape[0]}\")\n",
    "                # print(f\"#collisions = 2^{(mean_collisions/scale_factor):.03f}, #distinguihsed_pts = 2^{(mean_value/scale_factor):.03f} pts, diff = {d}, mem=2^{m:.03f}, nruns = {df_C_d_m.shape[0]}\")\n",
    "        print(\"-\"*40)\n",
    "    print(\"=\"*40 + \"\\n\")"
   ]
  },
  {
   "cell_type": "code",
   "execution_count": null,
   "id": "6a3c28ec",
   "metadata": {},
   "outputs": [],
   "source": []
  }
 ],
 "metadata": {
  "kernelspec": {
   "display_name": "Python 3 (ipykernel)",
   "language": "python",
   "name": "python3"
  },
  "language_info": {
   "codemirror_mode": {
    "name": "ipython",
    "version": 3
   },
   "file_extension": ".py",
   "mimetype": "text/x-python",
   "name": "python",
   "nbconvert_exporter": "python",
   "pygments_lexer": "ipython3",
   "version": "3.10.12"
  }
 },
 "nbformat": 4,
 "nbformat_minor": 5
}
