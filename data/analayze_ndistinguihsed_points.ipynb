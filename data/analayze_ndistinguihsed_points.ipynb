{
 "cells": [
  {
   "cell_type": "code",
   "execution_count": 1,
   "id": "8d0fd478",
   "metadata": {},
   "outputs": [],
   "source": [
    "import pandas as pd\n",
    "import numpy as np\n",
    "from IPython.display import display\n",
    "pd.set_option('display.max_rows', None)\n",
    "pd.set_option('display.max_columns', None)"
   ]
  },
  {
   "cell_type": "markdown",
   "id": "e42819d6",
   "metadata": {},
   "source": [
    "# Introduction\n",
    "Compare the number of distinguished points before the golden values are found between three methods. \n",
    "1. Normal program execution\n",
    "2. Cheating: skip inputs that leads to the golden output but are not the golden inputs\n",
    "3. Stop as soos as we see both of the golden inputs, and their respective chains use f and g correctly \n",
    "   (i.e. goldA let us use f, goldB let use g)\n",
    "   \n",
    "\n",
    "\n"
   ]
  },
  {
   "cell_type": "code",
   "execution_count": 5,
   "id": "ab9a9a76-f670-4a58-8f8a-0b0f99022b9b",
   "metadata": {},
   "outputs": [
    {
     "name": "stdout",
     "output_type": "stream",
     "text": [
      "stats for normal run\n",
      "#distinguihsed_points required is on avg. 2^14.867 pts, when |C| = 08 bits, diff = 0\n",
      "#distinguihsed_points required is on avg. 2^13.367 pts, when |C| = 08 bits, diff = 1\n",
      "#distinguihsed_points required is on avg. 2^14.882 pts, when |C| = 08 bits, diff = 2\n",
      "#distinguihsed_points required is on avg. 2^14.545 pts, when |C| = 08 bits, diff = 3\n",
      "-------------------------------------------------------------------------\n",
      "#distinguihsed_points required is on avg. 2^22.282 pts, when |C| = 16 bits, diff = 0\n",
      "#distinguihsed_points required is on avg. 2^21.552 pts, when |C| = 16 bits, diff = 1\n",
      "#distinguihsed_points required is on avg. 2^21.393 pts, when |C| = 16 bits, diff = 2\n",
      "#distinguihsed_points required is on avg. 2^22.609 pts, when |C| = 16 bits, diff = 3\n",
      "-------------------------------------------------------------------------\n",
      "\n",
      "Note: avg. is the geometric mean\n"
     ]
    }
   ],
   "source": [
    "# Data collected in the case that we stop as soon we as see both of the golden inputs \n",
    "# during the expected chains, i.e., golden_inputA invokes f, golden_inputB invokes g\n",
    "# Recall: We made these inputs live in C, so we have to choose between f or g each\n",
    "#         time.\n",
    "\n",
    "df_normal = pd.read_csv(\"claw_summary.csv.normal.csv\")\n",
    "\n",
    "print(\"stats for normal run\")\n",
    "\n",
    "C_max_size = 3 # maximum size of the number of bytes in the output\n",
    "diff_max = 4\n",
    "for c in range(1, C_max_size):\n",
    "    for d in range(diff_max):\n",
    "        # Filter the DataFrame where C_size is equal to 1\n",
    "        filtered_df = df_normal[df_normal['C_size'] == c]\n",
    "        filtered_df = filtered_df[filtered_df['difficulty'] == d]\n",
    "\n",
    "    \n",
    "        # Calculate the mean of the desired column (e.g., 'Column1')\n",
    "        mean_value = filtered_df[\"#distinguished_points_log2\"].mean()\n",
    "        print(f\"#distinguihsed_points required is on avg. 2^{mean_value:.03f} pts, when |C| = {8*c:02} bits, diff = {d}\")\n",
    "    print(\"-------------------------------------------------------------------------\")\n",
    "    \n",
    "    \n",
    "print(f\"\\nNote: avg. is the geometric mean\")\n",
    "filtered_df = df_normal[df_normal['C_size'] == c]\n"
   ]
  },
  {
   "cell_type": "code",
   "execution_count": 3,
   "id": "bd470b99-c5b1-4451-9eec-e945a40afd02",
   "metadata": {},
   "outputs": [
    {
     "name": "stdout",
     "output_type": "stream",
     "text": [
      "stats when we skip inputs that have the output as the golden ones but they are not\n",
      "#distinguihsed_points required is on avg. 2^14.327 pts, when |C| = 08 bits, diff = 0\n",
      "#distinguihsed_points required is on avg. 2^13.859 pts, when |C| = 08 bits, diff = 1\n",
      "#distinguihsed_points required is on avg. 2^14.524 pts, when |C| = 08 bits, diff = 2\n",
      "#distinguihsed_points required is on avg. 2^14.216 pts, when |C| = 08 bits, diff = 3\n",
      "-------------------------------------------------------------------------\n",
      "#distinguihsed_points required is on avg. 2^22.367 pts, when |C| = 16 bits, diff = 0\n",
      "#distinguihsed_points required is on avg. 2^22.371 pts, when |C| = 16 bits, diff = 1\n",
      "#distinguihsed_points required is on avg. 2^21.984 pts, when |C| = 16 bits, diff = 2\n",
      "#distinguihsed_points required is on avg. 2^21.646 pts, when |C| = 16 bits, diff = 3\n",
      "-------------------------------------------------------------------------\n",
      "\n",
      "Note: avg. is the geometric mean\n"
     ]
    }
   ],
   "source": [
    "df_skip = pd.read_csv(\"claw_summary.csv.skip_bad_collision.csv\")\n",
    "\n",
    "print(\"stats when we skip inputs that have the output as the golden ones but they are not\")\n",
    "\n",
    "C_max_size = 3 # maximum size of the number of bytes in the output\n",
    "diff_max = 4\n",
    "for c in range(1, C_max_size):\n",
    "    for d in range(diff_max):\n",
    "        # Filter the DataFrame where C_size is equal to 1\n",
    "        filtered_df = df_skip[df_skip['C_size'] == c]\n",
    "        filtered_df = filtered_df[filtered_df['difficulty'] == d]\n",
    "\n",
    "    \n",
    "        # Calculate the mean of the desired column (e.g., 'Column1')\n",
    "        mean_value = filtered_df[\"#distinguished_points_log2\"].mean()\n",
    "        print(f\"#distinguihsed_points required is on avg. 2^{mean_value:.03f} pts, when |C| = {8*c:02} bits, diff = {d}\")\n",
    "    print(\"-------------------------------------------------------------------------\")\n",
    "    \n",
    "    \n",
    "print(f\"\\nNote: avg. is the geometric mean\")\n"
   ]
  },
  {
   "cell_type": "code",
   "execution_count": 6,
   "id": "0356cb10",
   "metadata": {},
   "outputs": [
    {
     "name": "stdout",
     "output_type": "stream",
     "text": [
      "stats for stopping only on witness\n",
      "#distinguihsed_points required is on avg. 2^11.568 pts, when |C| = 08 bits, diff = 0\n",
      "#distinguihsed_points required is on avg. 2^11.216 pts, when |C| = 08 bits, diff = 1\n",
      "#distinguihsed_points required is on avg. 2^10.876 pts, when |C| = 08 bits, diff = 2\n",
      "#distinguihsed_points required is on avg. 2^10.738 pts, when |C| = 08 bits, diff = 3\n",
      "-------------------------------------------------------------------------\n",
      "#distinguihsed_points required is on avg. 2^19.203 pts, when |C| = 16 bits, diff = 0\n",
      "#distinguihsed_points required is on avg. 2^18.795 pts, when |C| = 16 bits, diff = 1\n",
      "#distinguihsed_points required is on avg. 2^18.974 pts, when |C| = 16 bits, diff = 2\n",
      "#distinguihsed_points required is on avg. 2^19.423 pts, when |C| = 16 bits, diff = 3\n",
      "-------------------------------------------------------------------------\n",
      "\n",
      "Note: avg. is the geometric mean\n"
     ]
    }
   ],
   "source": [
    "# Data collected in the case that we stop as soon we as see both of the golden inputs \n",
    "# during the expected chains, i.e., golden_inputA invokes f, golden_inputB invokes g\n",
    "# Recall: We made these inputs live in C, so we have to choose between f or g each\n",
    "#         time.\n",
    "\n",
    "df_witness = pd.read_csv(\"claw_summary.csv.stop_on_witiness.csv\")\n",
    "\n",
    "print(\"stats for stopping only on witness\")\n",
    "\n",
    "C_max_size = 3 # maximum size of the number of bytes in the output\n",
    "diff_max = 4\n",
    "for c in range(1, C_max_size):\n",
    "    for d in range(diff_max):\n",
    "        # Filter the DataFrame where C_size is equal to 1\n",
    "        filtered_df = df_witness[df_witness['C_size'] == c]\n",
    "        filtered_df = filtered_df[filtered_df['difficulty'] == d]\n",
    "\n",
    "    \n",
    "        # Calculate the mean of the desired column (e.g., 'Column1')\n",
    "        mean_value = filtered_df[\"#distinguished_points_log2\"].mean()\n",
    "        print(f\"#distinguihsed_points required is on avg. 2^{mean_value:.03f} pts, when |C| = {8*c:02} bits, diff = {d}\")\n",
    "    print(\"-------------------------------------------------------------------------\")\n",
    "    \n",
    "    \n",
    "print(f\"\\nNote: avg. is the geometric mean\")\n"
   ]
  },
  {
   "cell_type": "code",
   "execution_count": null,
   "id": "4d3a4761",
   "metadata": {},
   "outputs": [],
   "source": []
  },
  {
   "cell_type": "code",
   "execution_count": null,
   "id": "2b573e19-65d7-474a-a2a0-16c8fbcf257d",
   "metadata": {},
   "outputs": [],
   "source": []
  }
 ],
 "metadata": {
  "kernelspec": {
   "display_name": "Python 3 (ipykernel)",
   "language": "python",
   "name": "python3"
  },
  "language_info": {
   "codemirror_mode": {
    "name": "ipython",
    "version": 3
   },
   "file_extension": ".py",
   "mimetype": "text/x-python",
   "name": "python",
   "nbconvert_exporter": "python",
   "pygments_lexer": "ipython3",
   "version": "3.10.12"
  }
 },
 "nbformat": 4,
 "nbformat_minor": 5
}
